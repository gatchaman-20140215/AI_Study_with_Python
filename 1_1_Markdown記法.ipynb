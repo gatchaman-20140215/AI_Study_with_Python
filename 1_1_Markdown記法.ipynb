{
  "nbformat": 4,
  "nbformat_minor": 0,
  "metadata": {
    "colab": {
      "name": "1-1 Markdown記法.ipynb",
      "version": "0.3.2",
      "provenance": [],
      "collapsed_sections": [],
      "include_colab_link": true
    },
    "language_info": {
      "codemirror_mode": {
        "name": "ipython",
        "version": 3
      },
      "file_extension": ".py",
      "mimetype": "text/x-python",
      "name": "python",
      "nbconvert_exporter": "python",
      "pygments_lexer": "ipython3",
      "version": "3.5.2"
    },
    "kernelspec": {
      "display_name": "Python [conda root]",
      "language": "python",
      "name": "conda-root-py"
    }
  },
  "cells": [
    {
      "cell_type": "markdown",
      "metadata": {
        "id": "view-in-github",
        "colab_type": "text"
      },
      "source": [
        "<a href=\"https://colab.research.google.com/github/gatchaman-20140215/AI_Study_with_Python/blob/master/1_1_Markdown%E8%A8%98%E6%B3%95.ipynb\" target=\"_parent\"><img src=\"https://colab.research.google.com/assets/colab-badge.svg\" alt=\"Open In Colab\"/></a>"
      ]
    },
    {
      "metadata": {
        "id": "tt_oGCM4pxoy",
        "colab_type": "text"
      },
      "cell_type": "markdown",
      "source": [
        "# 第2章 さあ、IPython Notebookをはじめよう\n",
        "\n",
        "## 2.3 プログラミングの前にMarkdownの使い方を学ぶ\n",
        "\n",
        "\n",
        "\n",
        "### 2.3.1 太文字：文字を半角の\n"
      ]
    },
    {
      "metadata": {
        "id": "32r3sfjupxoz",
        "colab_type": "text"
      },
      "cell_type": "markdown",
      "source": [
        "```\n",
        "**革新的技術**\n",
        "```"
      ]
    },
    {
      "metadata": {
        "id": "6rpL8fiDpxo0",
        "colab_type": "text"
      },
      "cell_type": "markdown",
      "source": [
        "と書くと"
      ]
    },
    {
      "metadata": {
        "id": "LFfZZ43Qpxo0",
        "colab_type": "text"
      },
      "cell_type": "markdown",
      "source": [
        "**革新的技術**"
      ]
    },
    {
      "metadata": {
        "id": "vtGH4CaVpxo1",
        "colab_type": "text"
      },
      "cell_type": "markdown",
      "source": [
        "と表示される。\n",
        "\n",
        "### 2.3.2 斜体文字："
      ]
    },
    {
      "metadata": {
        "id": "7EEscO8Spxo2",
        "colab_type": "text"
      },
      "cell_type": "markdown",
      "source": [
        "```\n",
        "*革新的技術*\n",
        "```"
      ]
    },
    {
      "metadata": {
        "id": "jZzM9WGEpxo2",
        "colab_type": "text"
      },
      "cell_type": "markdown",
      "source": [
        "と書くと"
      ]
    },
    {
      "metadata": {
        "id": "kOnyA7ZOpxo3",
        "colab_type": "text"
      },
      "cell_type": "markdown",
      "source": [
        "*革新的技術*"
      ]
    },
    {
      "metadata": {
        "id": "8tJTUrOLpxo4",
        "colab_type": "text"
      },
      "cell_type": "markdown",
      "source": [
        "と表示される。\n",
        "\n",
        "### 2.3.3 改行 : 行の最後に2つのスペースを挿入。"
      ]
    },
    {
      "metadata": {
        "id": "tlMqr_-3pxo4",
        "colab_type": "text"
      },
      "cell_type": "markdown",
      "source": [
        "```\n",
        "innovation  \n",
        "革新\n",
        "```"
      ]
    },
    {
      "metadata": {
        "id": "8iNtWrxypxo5",
        "colab_type": "text"
      },
      "cell_type": "markdown",
      "source": [
        "innovation  \n",
        "革新"
      ]
    },
    {
      "metadata": {
        "id": "p6JTpueKpxo6",
        "colab_type": "text"
      },
      "cell_type": "markdown",
      "source": [
        "### 2.3.4 順序無リスト: ＊＋半角スペース＋テキスト"
      ]
    },
    {
      "metadata": {
        "id": "gIaFwTT5pxo6",
        "colab_type": "text"
      },
      "cell_type": "markdown",
      "source": [
        "```\n",
        "* innovation\n",
        "* 革新\n",
        "```"
      ]
    },
    {
      "metadata": {
        "id": "2Xn1GUFgpxo7",
        "colab_type": "text"
      },
      "cell_type": "markdown",
      "source": [
        "* innovation\n",
        "* 革新"
      ]
    },
    {
      "metadata": {
        "id": "d5kWt3cepxo8",
        "colab_type": "text"
      },
      "cell_type": "markdown",
      "source": [
        "### 2.3.5 順序付リスト: 1(数字).＋半角スペース＋テキスト"
      ]
    },
    {
      "metadata": {
        "id": "6xVnR5yYpxo8",
        "colab_type": "text"
      },
      "cell_type": "markdown",
      "source": [
        "```\n",
        "1. innovation\n",
        "2. 革新\n",
        "```"
      ]
    },
    {
      "metadata": {
        "id": "RIDlnYgtpxo9",
        "colab_type": "text"
      },
      "cell_type": "markdown",
      "source": [
        "1. innovation\n",
        "2. 革新"
      ]
    },
    {
      "metadata": {
        "id": "DKeND2V0pxo-",
        "colab_type": "text"
      },
      "cell_type": "markdown",
      "source": [
        "### 2.3.6 段落：書き込みのない行を段落の前に入れると段落ができる。"
      ]
    },
    {
      "metadata": {
        "id": "9EST3M2Opxo_",
        "colab_type": "text"
      },
      "cell_type": "markdown",
      "source": [
        "```\n",
        "make innovation happen\n",
        "\n",
        "革新を生む\n",
        "```"
      ]
    },
    {
      "metadata": {
        "id": "LkfNwR4zpxo_",
        "colab_type": "text"
      },
      "cell_type": "markdown",
      "source": [
        "make innovation happen\n",
        "\n",
        "革新を生む"
      ]
    },
    {
      "metadata": {
        "id": "gn11UfAfpxpA",
        "colab_type": "text"
      },
      "cell_type": "markdown",
      "source": [
        "### 2.3.7 見出し: ＃レベル1の見出し、＃＃レベル2の見出し、、、、"
      ]
    },
    {
      "metadata": {
        "id": "4pPD0OE7pxpB",
        "colab_type": "text"
      },
      "cell_type": "markdown",
      "source": [
        "```\n",
        "# 革新\n",
        "## innovation\n",
        "```"
      ]
    },
    {
      "metadata": {
        "id": "IcvM3Pv7pxpC",
        "colab_type": "text"
      },
      "cell_type": "markdown",
      "source": [
        "と書くと"
      ]
    },
    {
      "metadata": {
        "id": "0N7_tTKbpxpD",
        "colab_type": "text"
      },
      "cell_type": "markdown",
      "source": [
        "# 革新\n",
        "## innovation"
      ]
    },
    {
      "metadata": {
        "id": "8zU4s4E-pxpD",
        "colab_type": "text"
      },
      "cell_type": "markdown",
      "source": [
        "と表示される。\n",
        "\n",
        "### 2.3.8 リンク: [リンクのテキスト]（リンクのアドレス　\"リンクのタイトル”）\n",
        "\n",
        "[pan](http://www.panrolling.com/map01.html)"
      ]
    },
    {
      "metadata": {
        "id": "0s25DtE6pxpE",
        "colab_type": "text"
      },
      "cell_type": "markdown",
      "source": [
        "### 2.3.9 画像: [画像のテキスト]（画像のアドレス　\"画像のタイトル”）\n",
        "![](http://localhost:8888/tree/button.jpg) "
      ]
    },
    {
      "metadata": {
        "id": "6_nc-tPdpxpF",
        "colab_type": "text"
      },
      "cell_type": "markdown",
      "source": [
        "### 2.3.10 水平線：一行にハイフン、アスタリスク、アンダーバーを続けて3つ挿入\n",
        "___\n",
        "\n",
        "### 2.3.11 LaTex: ＄と＄の間に数式を書き込む。LaTexの文法を採用。"
      ]
    },
    {
      "metadata": {
        "id": "X_-x8hs5pxpF",
        "colab_type": "text"
      },
      "cell_type": "markdown",
      "source": [
        "```\n",
        "$x=y+z$\n",
        "```"
      ]
    },
    {
      "metadata": {
        "id": "tTu0uaBhpxpG",
        "colab_type": "text"
      },
      "cell_type": "markdown",
      "source": [
        "と書き込むと"
      ]
    },
    {
      "metadata": {
        "id": "NSwxMaUypxpH",
        "colab_type": "text"
      },
      "cell_type": "markdown",
      "source": [
        "$x=y+z$\n",
        "\n",
        "と表示される。\n",
        "\n",
        "### 2.3.12 表組み：\n",
        "\n",
        "innovation, 革新、イノベーションを項目として表を組みたい場合に,最初の行で\n",
        "```\n",
        "   |    を用いて枠組みを確定する。| |の間にこれらの項目を記す。\n",
        "```\n",
        "\n",
        "次の行で右寄せ、左寄せ、中央寄せを決める。それぞれ\n",
        "\n",
        "```\n",
        "|:---|, |---:|, |:---:|.  \n",
        "```\n",
        "である。"
      ]
    },
    {
      "metadata": {
        "id": "-K8kOv8MpxpI",
        "colab_type": "text"
      },
      "cell_type": "markdown",
      "source": [
        "```\n",
        "|innovation|革新|イノベーション|\n",
        "|:---|---:|:---:|\n",
        "|2 |2 |3|\n",
        "|a|b|c|\n",
        "```"
      ]
    },
    {
      "metadata": {
        "id": "hC6ek47kpxpJ",
        "colab_type": "text"
      },
      "cell_type": "markdown",
      "source": [
        "と打つと"
      ]
    },
    {
      "metadata": {
        "id": "DDPCoj2upxpK",
        "colab_type": "text"
      },
      "cell_type": "markdown",
      "source": [
        "|innovation|革新|イノベーション|\n",
        "|:---|---:|:---:|\n",
        "|2 |2 |3|\n",
        "|a|b|c|"
      ]
    },
    {
      "metadata": {
        "id": "xH60mSiPpxpK",
        "colab_type": "text"
      },
      "cell_type": "markdown",
      "source": [
        "と表示される。\n",
        "\n",
        "\n",
        "## 2.4 プログラミングとその実行\n",
        "Markdownを用いた文書作成は"
      ]
    },
    {
      "metadata": {
        "id": "W_mXBn5npxpL",
        "colab_type": "code",
        "colab": {}
      },
      "cell_type": "code",
      "source": [
        ""
      ],
      "execution_count": 0,
      "outputs": []
    },
    {
      "metadata": {
        "id": "dUG3WpuWpxpO",
        "colab_type": "code",
        "colab": {}
      },
      "cell_type": "code",
      "source": [
        "innovation=\"make innovation happen\""
      ],
      "execution_count": 0,
      "outputs": []
    },
    {
      "metadata": {
        "id": "oo2i2k17pxpQ",
        "colab_type": "text"
      },
      "cell_type": "markdown",
      "source": [
        "これだけでは本当にinnovationにmake innovation happenが代入されたかどうかわからないので、\n",
        "次の行にinnovationと打つ。これはinnovationの中身を出力しろという命令である。"
      ]
    },
    {
      "metadata": {
        "id": "pCM5wx5IpxpR",
        "colab_type": "code",
        "outputId": "638afaef-8f8a-432a-b012-63cf4a0e6678",
        "colab": {}
      },
      "cell_type": "code",
      "source": [
        "innovation=\"make innovation happen\"\n",
        "innovation"
      ],
      "execution_count": 0,
      "outputs": [
        {
          "output_type": "execute_result",
          "data": {
            "text/plain": [
              "'make innovation happen'"
            ]
          },
          "metadata": {
            "tags": []
          },
          "execution_count": 2
        }
      ]
    },
    {
      "metadata": {
        "id": "DHDeXJEfpxpV",
        "colab_type": "text"
      },
      "cell_type": "markdown",
      "source": [
        "そしてトグルバーの ![](http://localhost:8888/tree/button.jpg)              \n",
        "をクリックするとプログラムが走る。\n",
        "\n",
        "button.jpgファイルをdocumentsフォルダーの中のIpython notebookフォルダーの中においてください。"
      ]
    },
    {
      "metadata": {
        "id": "bVlfYW5DpxpW",
        "colab_type": "text"
      },
      "cell_type": "markdown",
      "source": [
        "そしてトグルバーの ![](t:8888/notebooks/button.jpg)              \n",
        "をクリックするとプログラムが走る。"
      ]
    },
    {
      "metadata": {
        "id": "tKAefTDApxpX",
        "colab_type": "code",
        "outputId": "27c9ca17-1680-41f4-d8f0-2ee957697611",
        "colab": {}
      },
      "cell_type": "code",
      "source": [
        "innovation=\"make innovation happen\"\n",
        "innovation"
      ],
      "execution_count": 0,
      "outputs": [
        {
          "output_type": "execute_result",
          "data": {
            "text/plain": [
              "'make innovation happen'"
            ]
          },
          "metadata": {
            "tags": []
          },
          "execution_count": 3
        }
      ]
    },
    {
      "metadata": {
        "id": "q3OzdR5Apxpa",
        "colab_type": "text"
      },
      "cell_type": "markdown",
      "source": [
        "と表示される。これでプログラムは完ぺきだ！\n",
        "プログラムを走らせれば次のセルが現れるので、そこに新しいプログラムを書き込めば良い。\n",
        "そしてそのNotebookはそのまま保存されるので、いちいち保存する必要がない。\n",
        "至って便利だ。\n",
        "\n",
        "プログラムのセルの前後にMarkdwonでコメントを書くこともできる。"
      ]
    },
    {
      "metadata": {
        "collapsed": true,
        "id": "l-sKv5UNpxpa",
        "colab_type": "text"
      },
      "cell_type": "markdown",
      "source": [
        "誰にでも革新的技術を開発できる。"
      ]
    },
    {
      "metadata": {
        "id": "GYDWnJAQpxpb",
        "colab_type": "code",
        "outputId": "7566fa36-7a48-4c3b-9345-6f0a7be97541",
        "colab": {}
      },
      "cell_type": "code",
      "source": [
        "innovation=\"make innovation happen\"\n",
        "innovation"
      ],
      "execution_count": 0,
      "outputs": [
        {
          "output_type": "execute_result",
          "data": {
            "text/plain": [
              "'make innovation happen'"
            ]
          },
          "metadata": {
            "tags": []
          },
          "execution_count": 4
        }
      ]
    },
    {
      "metadata": {
        "id": "v4z93MMxpxpe",
        "colab_type": "text"
      },
      "cell_type": "markdown",
      "source": [
        "```\n",
        "##### 革新する。\n",
        "#### 革新する。\n",
        "### 革新する。\n",
        "## 革新する。\n",
        "#  革新できた。\n",
        "\n",
        "と書くと\n",
        "```"
      ]
    },
    {
      "metadata": {
        "id": "CzbgIb2spxpg",
        "colab_type": "text"
      },
      "cell_type": "markdown",
      "source": [
        "##### 革新する。\n",
        "#### 革新する。\n",
        "### 革新する。\n",
        "## 革新する。\n",
        "#  革新できた。\n",
        "\n",
        "と表示される。"
      ]
    }
  ]
}