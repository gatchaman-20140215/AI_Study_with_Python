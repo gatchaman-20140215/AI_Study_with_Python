{
  "nbformat": 4,
  "nbformat_minor": 0,
  "metadata": {
    "colab": {
      "name": "1-2 Pythonの基本文法.ipynb",
      "version": "0.3.2",
      "provenance": [],
      "include_colab_link": true
    },
    "language_info": {
      "codemirror_mode": {
        "name": "ipython",
        "version": 3
      },
      "file_extension": ".py",
      "mimetype": "text/x-python",
      "name": "python",
      "nbconvert_exporter": "python",
      "pygments_lexer": "ipython3",
      "version": "3.5.2"
    },
    "kernelspec": {
      "display_name": "Python [conda root]",
      "language": "python",
      "name": "conda-root-py"
    }
  },
  "cells": [
    {
      "cell_type": "markdown",
      "metadata": {
        "id": "view-in-github",
        "colab_type": "text"
      },
      "source": [
        "<a href=\"https://colab.research.google.com/github/gatchaman-20140215/AI_Study_with_Python/blob/master/1_2_Python%E3%81%AE%E5%9F%BA%E6%9C%AC%E6%96%87%E6%B3%95.ipynb\" target=\"_parent\"><img src=\"https://colab.research.google.com/assets/colab-badge.svg\" alt=\"Open In Colab\"/></a>"
      ]
    },
    {
      "metadata": {
        "id": "A2cXmOEIwh1N",
        "colab_type": "text"
      },
      "cell_type": "markdown",
      "source": [
        "# 第3章　まずはPythonから\n",
        "\n",
        "Python言語リファレンス　\n",
        "http://docs.python.jp/3.5/reference/index.html#reference-index　\n",
        "\n",
        "Python標準ライブラリー　\n",
        "http://docs.python.jp/3.5/library/index.html　　\n",
        "\n",
        "Python 3.5.x ドキュメント \n",
        "http://docs.python.jp/3.5/index.html\n",
        "\n",
        "\n",
        "## 3.2 Python プログラムをはじめよう"
      ]
    },
    {
      "metadata": {
        "id": "8gmQsWJQwh1R",
        "colab_type": "code",
        "colab": {},
        "outputId": "34c4acfa-b0e1-4a72-d8b4-6e2915e3823a"
      },
      "cell_type": "code",
      "source": [
        "\"\"\"\n",
        "make \n",
        "innovation \n",
        "happen\n",
        "\"\"\""
      ],
      "execution_count": 0,
      "outputs": [
        {
          "output_type": "execute_result",
          "data": {
            "text/plain": [
              "'\\nmake \\ninnovation \\nhappen\\n'"
            ]
          },
          "metadata": {
            "tags": []
          },
          "execution_count": 1
        }
      ]
    },
    {
      "metadata": {
        "id": "LoXh9tsawh1e",
        "colab_type": "code",
        "colab": {},
        "outputId": "bdb7fced-c959-4717-e30c-7dc1d311f520"
      },
      "cell_type": "code",
      "source": [
        "a=['x','y']\n",
        "if 'x' in a:# もし文字xがリストaに含まれればOKと表示する。\n",
        "    print(\"OK\")"
      ],
      "execution_count": 0,
      "outputs": [
        {
          "output_type": "stream",
          "text": [
            "OK\n"
          ],
          "name": "stdout"
        }
      ]
    },
    {
      "metadata": {
        "id": "vphu_gbTwh1o",
        "colab_type": "code",
        "colab": {},
        "outputId": "36a87ede-633c-4e0d-c0d6-595803a5eb7e"
      },
      "cell_type": "code",
      "source": [
        "a=[1,2,3]\n",
        "for i in a:\n",
        "    print(i),#print文の最後にカンマ(,)を置くと改行されない。"
      ],
      "execution_count": 0,
      "outputs": [
        {
          "output_type": "stream",
          "text": [
            "1\n",
            "2\n",
            "3\n"
          ],
          "name": "stdout"
        }
      ]
    },
    {
      "metadata": {
        "id": "KV2gmmEDwh1v",
        "colab_type": "text"
      },
      "cell_type": "markdown",
      "source": [
        "## 3.3 いよいよPython 標準ライブラリーについて学ぼう\n"
      ]
    },
    {
      "metadata": {
        "id": "kFNd20ktwh1w",
        "colab_type": "code",
        "colab": {},
        "outputId": "0a94a0f7-9f7e-402e-8a3f-450d52cb06f8"
      },
      "cell_type": "code",
      "source": [
        "x=\"a,b,c d e\" #文字列xを\",\"で区切る。\n",
        "x.split(\",\")"
      ],
      "execution_count": 0,
      "outputs": [
        {
          "output_type": "execute_result",
          "data": {
            "text/plain": [
              "['a', 'b', 'c d e']"
            ]
          },
          "metadata": {
            "tags": []
          },
          "execution_count": 4
        }
      ]
    },
    {
      "metadata": {
        "id": "shbEa7R_wh12",
        "colab_type": "code",
        "colab": {},
        "outputId": "9481981c-a68f-48b0-a83a-fb8ada2e0bed"
      },
      "cell_type": "code",
      "source": [
        "a=\"vwxyz\"# リストaの文字列vwxyzに文字列vwが含まれればTrueを返す。\n",
        "'vw' in a"
      ],
      "execution_count": 0,
      "outputs": [
        {
          "output_type": "execute_result",
          "data": {
            "text/plain": [
              "True"
            ]
          },
          "metadata": {
            "tags": []
          },
          "execution_count": 5
        }
      ]
    },
    {
      "metadata": {
        "id": "Nuzvd5mjwh19",
        "colab_type": "code",
        "colab": {},
        "outputId": "a8a67f89-1e50-4d2c-d238-1572231dbaa9"
      },
      "cell_type": "code",
      "source": [
        "a=[\"x\",\"y\",\"z\"]# 文字xがaの要素に含まれればTrueを返す。\n",
        "'x' in a"
      ],
      "execution_count": 0,
      "outputs": [
        {
          "output_type": "execute_result",
          "data": {
            "text/plain": [
              "True"
            ]
          },
          "metadata": {
            "tags": []
          },
          "execution_count": 6
        }
      ]
    },
    {
      "metadata": {
        "id": "aEcbXfljwh2G",
        "colab_type": "code",
        "colab": {},
        "outputId": "0e378861-9a5d-47af-f461-47829c720d4e"
      },
      "cell_type": "code",
      "source": [
        "a=[1,2,3,4,5]\n",
        "a             # a と書くだけでaに保存されているデータが表示される。"
      ],
      "execution_count": 0,
      "outputs": [
        {
          "output_type": "execute_result",
          "data": {
            "text/plain": [
              "[1, 2, 3, 4, 5]"
            ]
          },
          "metadata": {
            "tags": []
          },
          "execution_count": 7
        }
      ]
    },
    {
      "metadata": {
        "id": "irO842vjwh2Q",
        "colab_type": "code",
        "colab": {},
        "outputId": "8c214f79-27d0-4957-e938-4ea0bae1f12e"
      },
      "cell_type": "code",
      "source": [
        "a[1]# 要素の位置の指定は左端から始まり、左端はゼロであるので、\n",
        "    #1は左端から2番目を表す。"
      ],
      "execution_count": 0,
      "outputs": [
        {
          "output_type": "execute_result",
          "data": {
            "text/plain": [
              "2"
            ]
          },
          "metadata": {
            "tags": []
          },
          "execution_count": 8
        }
      ]
    },
    {
      "metadata": {
        "id": "f0NbH_hXwh2Y",
        "colab_type": "code",
        "colab": {},
        "outputId": "3b28dfa1-9b0b-4548-82b0-61fdffad0833"
      },
      "cell_type": "code",
      "source": [
        "a[-3]# 数字にマイナスをつけた場合は右端からの位置を表すので、\n",
        "     #右から三番目の要素の内容が表示される。"
      ],
      "execution_count": 0,
      "outputs": [
        {
          "output_type": "execute_result",
          "data": {
            "text/plain": [
              "3"
            ]
          },
          "metadata": {
            "tags": []
          },
          "execution_count": 9
        }
      ]
    },
    {
      "metadata": {
        "id": "SUkt3BGRwh2e",
        "colab_type": "code",
        "colab": {},
        "outputId": "2e01865e-d748-4d8a-8e8a-d48ab53f1001"
      },
      "cell_type": "code",
      "source": [
        "a[-3:]#　右端から3番目から右端までの要素をスライス（切り取って）して表示する。"
      ],
      "execution_count": 0,
      "outputs": [
        {
          "output_type": "execute_result",
          "data": {
            "text/plain": [
              "[3, 4, 5]"
            ]
          },
          "metadata": {
            "tags": []
          },
          "execution_count": 10
        }
      ]
    },
    {
      "metadata": {
        "id": "scnaeld3wh2l",
        "colab_type": "code",
        "colab": {},
        "outputId": "47a527f0-7105-47ab-f7d8-dd7dc3e18db5"
      },
      "cell_type": "code",
      "source": [
        "a+[10,11,12]# これはリストaに10,11,12を加えている。"
      ],
      "execution_count": 0,
      "outputs": [
        {
          "output_type": "execute_result",
          "data": {
            "text/plain": [
              "[1, 2, 3, 4, 5, 10, 11, 12]"
            ]
          },
          "metadata": {
            "tags": []
          },
          "execution_count": 11
        }
      ]
    },
    {
      "metadata": {
        "id": "rcucGQ7Rwh2q",
        "colab_type": "code",
        "colab": {},
        "outputId": "9a937e7c-45f6-417f-d18d-5b58fae44ef4"
      },
      "cell_type": "code",
      "source": [
        "data1=['2013/1/1',1]#日付、価格\n",
        "data2=['2014/1/1',2]\n",
        "data3=data1+data2\n",
        "data3"
      ],
      "execution_count": 0,
      "outputs": [
        {
          "output_type": "execute_result",
          "data": {
            "text/plain": [
              "['2013/1/1', 1, '2014/1/1', 2]"
            ]
          },
          "metadata": {
            "tags": []
          },
          "execution_count": 12
        }
      ]
    },
    {
      "metadata": {
        "scrolled": true,
        "id": "4KruAce5wh2v",
        "colab_type": "code",
        "colab": {},
        "outputId": "f9ec9477-be10-4388-d0d5-8693ae792148"
      },
      "cell_type": "code",
      "source": [
        "data4=['2013/1/1',1]#日付、価格\n",
        "data5=['2014/1/1',2]\n",
        "data6=[data4,data5]\n",
        "data6"
      ],
      "execution_count": 0,
      "outputs": [
        {
          "output_type": "execute_result",
          "data": {
            "text/plain": [
              "[['2013/1/1', 1], ['2014/1/1', 2]]"
            ]
          },
          "metadata": {
            "tags": []
          },
          "execution_count": 13
        }
      ]
    },
    {
      "metadata": {
        "id": "-0fYSVEvwh22",
        "colab_type": "code",
        "colab": {},
        "outputId": "38f65036-f72d-40c9-c864-0f0be3938c72"
      },
      "cell_type": "code",
      "source": [
        "data7=['2013/1/1','2014/1/1']#日付\n",
        "data8=[1,2]#価格\n",
        "data9=[data7,data8]\n",
        "data9"
      ],
      "execution_count": 0,
      "outputs": [
        {
          "output_type": "execute_result",
          "data": {
            "text/plain": [
              "[['2013/1/1', '2014/1/1'], [1, 2]]"
            ]
          },
          "metadata": {
            "tags": []
          },
          "execution_count": 14
        }
      ]
    },
    {
      "metadata": {
        "id": "4_Kkahhfwh2-",
        "colab_type": "code",
        "colab": {},
        "outputId": "11d4407e-3ed6-4601-fa97-75dc9ef2ed09"
      },
      "cell_type": "code",
      "source": [
        "data10=['2013/1/1',1]#日付、価格\n",
        "data11=['2014/1/1',2]\n",
        "data12=[data10,data11]\n",
        "data13=zip(*data12)#行と列を入れ替える。それぞれ2つのリストはタプルとなる。\n",
        "data13"
      ],
      "execution_count": 0,
      "outputs": [
        {
          "output_type": "execute_result",
          "data": {
            "text/plain": [
              "<zip at 0x202f3f2e048>"
            ]
          },
          "metadata": {
            "tags": []
          },
          "execution_count": 15
        }
      ]
    },
    {
      "metadata": {
        "id": "6P99PJ8rwh3I",
        "colab_type": "code",
        "colab": {},
        "outputId": "1e5829ac-a928-4e8b-9df0-ef401b4e7756"
      },
      "cell_type": "code",
      "source": [
        "data14=['2011/1/1']\n",
        "data14.append('2012/1/1')# 日付の追加。\n",
        "data14"
      ],
      "execution_count": 0,
      "outputs": [
        {
          "output_type": "execute_result",
          "data": {
            "text/plain": [
              "['2011/1/1', '2012/1/1']"
            ]
          },
          "metadata": {
            "tags": []
          },
          "execution_count": 16
        }
      ]
    },
    {
      "metadata": {
        "id": "_J5HuBIjwh3O",
        "colab_type": "code",
        "colab": {},
        "outputId": "b53013d8-3e00-4921-cb7e-f04b60c03ea7"
      },
      "cell_type": "code",
      "source": [
        "data15=['2013/1/1',1]#日付、価格\n",
        "data16=['2014/1/1',2]\n",
        "data17=['2015/1/1',2]\n",
        "data18=[data15,data16]\n",
        "data18.append(data17)\n",
        "data18"
      ],
      "execution_count": 0,
      "outputs": [
        {
          "output_type": "execute_result",
          "data": {
            "text/plain": [
              "[['2013/1/1', 1], ['2014/1/1', 2], ['2015/1/1', 2]]"
            ]
          },
          "metadata": {
            "tags": []
          },
          "execution_count": 17
        }
      ]
    },
    {
      "metadata": {
        "id": "dm6Ns98Iwh3W",
        "colab_type": "code",
        "colab": {},
        "outputId": "2cb4a3d9-8bc7-40d9-9322-4fbe43652a33"
      },
      "cell_type": "code",
      "source": [
        "data19=['2013/1/1','2014/1/1']#日付\n",
        "data20=[1,2]#価格\n",
        "data21=[data19,data20]\n",
        "data21.append([100,200])\n",
        "data21"
      ],
      "execution_count": 0,
      "outputs": [
        {
          "output_type": "execute_result",
          "data": {
            "text/plain": [
              "[['2013/1/1', '2014/1/1'], [1, 2], [100, 200]]"
            ]
          },
          "metadata": {
            "tags": []
          },
          "execution_count": 18
        }
      ]
    },
    {
      "metadata": {
        "id": "mcX2WIi0wh3a",
        "colab_type": "code",
        "colab": {},
        "outputId": "575ca7c3-9831-4fc9-d7dd-67a3bd3566bd"
      },
      "cell_type": "code",
      "source": [
        "data22=['2013/1/1','2014/1/1']#日付\n",
        "data23=[1,2]#価格\n",
        "data24=[data22,data23]\n",
        "data24[0].append('2015/1/1')#日付\n",
        "data24[1].append(3)#価格\n",
        "data24"
      ],
      "execution_count": 0,
      "outputs": [
        {
          "output_type": "execute_result",
          "data": {
            "text/plain": [
              "[['2013/1/1', '2014/1/1', '2015/1/1'], [1, 2, 3]]"
            ]
          },
          "metadata": {
            "tags": []
          },
          "execution_count": 19
        }
      ]
    },
    {
      "metadata": {
        "id": "oz5qbrZkwh3g",
        "colab_type": "code",
        "colab": {},
        "outputId": "839355c5-f6d8-4a68-9a4f-aa709a386765"
      },
      "cell_type": "code",
      "source": [
        "f=[]\n",
        "k=0\n",
        "for i in range(2):\n",
        "    f.append([])\n",
        "    for j in range(2):\n",
        "        f[k].append(j+k)\n",
        "    k+=1\n",
        "f"
      ],
      "execution_count": 0,
      "outputs": [
        {
          "output_type": "execute_result",
          "data": {
            "text/plain": [
              "[[0, 1], [1, 2]]"
            ]
          },
          "metadata": {
            "tags": []
          },
          "execution_count": 20
        }
      ]
    },
    {
      "metadata": {
        "id": "u5wIxiXowh3k",
        "colab_type": "code",
        "colab": {},
        "outputId": "88ce3663-0858-4b1d-8dfd-dba223ec45da"
      },
      "cell_type": "code",
      "source": [
        "#リスト内包記の例：\n",
        "a=[\"abc\",3]\n",
        "[x*2 for x in a] "
      ],
      "execution_count": 0,
      "outputs": [
        {
          "output_type": "execute_result",
          "data": {
            "text/plain": [
              "['abcabc', 6]"
            ]
          },
          "metadata": {
            "tags": []
          },
          "execution_count": 21
        }
      ]
    },
    {
      "metadata": {
        "id": "_V7FQGhuwh3s",
        "colab_type": "code",
        "colab": {},
        "outputId": "c0d07592-feed-4d18-ccff-25f5b9916ba3"
      },
      "cell_type": "code",
      "source": [
        "c_dic={'b':'blue','g':'green','r':'red','c':'cyan'}\n",
        "print(c_dic)"
      ],
      "execution_count": 0,
      "outputs": [
        {
          "output_type": "stream",
          "text": [
            "{'r': 'red', 'c': 'cyan', 'b': 'blue', 'g': 'green'}\n"
          ],
          "name": "stdout"
        }
      ]
    },
    {
      "metadata": {
        "id": "rjJrlU5bwh3y",
        "colab_type": "code",
        "colab": {},
        "outputId": "ccb06696-aeb2-4eb4-bf03-cede8422af53"
      },
      "cell_type": "code",
      "source": [
        "#辞書内包記の例\n",
        "y=[1,3,9]\n",
        "{str(x):x**2 for x in y}"
      ],
      "execution_count": 0,
      "outputs": [
        {
          "output_type": "execute_result",
          "data": {
            "text/plain": [
              "{'1': 1, '3': 9, '9': 81}"
            ]
          },
          "metadata": {
            "tags": []
          },
          "execution_count": 23
        }
      ]
    },
    {
      "metadata": {
        "id": "0NSLaEuTwh35",
        "colab_type": "text"
      },
      "cell_type": "markdown",
      "source": [
        "## 3.4 とりあえずの基本モジュールはDatetimeだけ！"
      ]
    },
    {
      "metadata": {
        "id": "65Mt6TMSwh36",
        "colab_type": "code",
        "colab": {},
        "outputId": "8b45f5d6-6486-4e00-d2fd-87b2f42e2ae4"
      },
      "cell_type": "code",
      "source": [
        "from datetime import datetime\n",
        "now=datetime.now()\n",
        "now"
      ],
      "execution_count": 0,
      "outputs": [
        {
          "output_type": "execute_result",
          "data": {
            "text/plain": [
              "datetime.datetime(2016, 11, 3, 19, 32, 23, 263603)"
            ]
          },
          "metadata": {
            "tags": []
          },
          "execution_count": 24
        }
      ]
    },
    {
      "metadata": {
        "id": "iJq5RIvMwh3-",
        "colab_type": "code",
        "colab": {},
        "outputId": "d4e22289-21c7-4739-af50-dc0fea1046f4"
      },
      "cell_type": "code",
      "source": [
        "dtime=now-datetime(2014,4,1)\n",
        "dtime"
      ],
      "execution_count": 0,
      "outputs": [
        {
          "output_type": "execute_result",
          "data": {
            "text/plain": [
              "datetime.timedelta(947, 70343, 263603)"
            ]
          },
          "metadata": {
            "tags": []
          },
          "execution_count": 25
        }
      ]
    },
    {
      "metadata": {
        "id": "gFzcQDbxwh4C",
        "colab_type": "code",
        "colab": {},
        "outputId": "5f3019d7-31b0-4e84-8abc-8b3fff9f3718"
      },
      "cell_type": "code",
      "source": [
        "dtime.days, dtime.seconds"
      ],
      "execution_count": 0,
      "outputs": [
        {
          "output_type": "execute_result",
          "data": {
            "text/plain": [
              "(947, 70343)"
            ]
          },
          "metadata": {
            "tags": []
          },
          "execution_count": 26
        }
      ]
    }
  ]
}